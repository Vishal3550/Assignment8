{
 "cells": [
  {
   "cell_type": "code",
   "execution_count": 2,
   "id": "cd69ef71-13f3-46b2-8fcd-b36dd58d27ed",
   "metadata": {},
   "outputs": [
    {
     "name": "stdin",
     "output_type": "stream",
     "text": [
      "enter valid password VishA3@#*\n"
     ]
    },
    {
     "name": "stdout",
     "output_type": "stream",
     "text": [
      "True\n"
     ]
    }
   ],
   "source": [
    "# Q1. You are writing code for a company. The requirement of the company is that you create a python function \n",
    "#     that will check whether the password entered by the user is correct or not. The function should take \n",
    "#     the password as input and return the string “Valid Password” if the entered password follows the\n",
    "#     below-given password guidelines else it should return “Invalid Password”.\n",
    "\n",
    "# Note: 1. The Password should contain at least two uppercase letters and at least two lowercase letters.\n",
    "#       2. The Password should contain at least a number and three special characters.\n",
    "#       3. The length of the password should be 10 characters long.\n",
    "\n",
    "user_input = input(\"enter valid password\")\n",
    "user_input = \"VishA3@#*\"\n",
    "\n",
    "\n",
    "def IsValidPassword (password):\n",
    "\n",
    "    if(len(password) > 5 and len(password) < 15):\n",
    "\n",
    "        lowerCase = False\n",
    "        upperCase = False\n",
    "        num= False\n",
    "        special = False\n",
    "\n",
    "        for char in password:\n",
    "            if(char.isdigit()): \n",
    "                num = True\n",
    "            if(char.islower()): \n",
    "                lowerCase = True\n",
    "            if(char.isupper()):\n",
    "                upperCase = True\n",
    "            if(not char.isalnum()):\n",
    "                special = True\n",
    "\n",
    "        return lowerCase and upperCase and num and special\n",
    "\n",
    "    else:\n",
    "        return False\n",
    "    \n",
    "print(IsValidPassword(user_input))"
   ]
  },
  {
   "cell_type": "code",
   "execution_count": 1,
   "id": "0ccc95d5-df0a-4ef4-aa39-aedf38a0caa0",
   "metadata": {},
   "outputs": [
    {
     "name": "stdout",
     "output_type": "stream",
     "text": [
      "Valid password\n"
     ]
    }
   ],
   "source": [
    "import re  \n",
    "  \n",
    "def validate_password(password):  \n",
    "    if len(password) < 8:  \n",
    "        return False  \n",
    "    if not re.search(\"[a-z]\", password):  \n",
    "        return False  \n",
    "    if not re.search(\"[A-Z]\", password):  \n",
    "        return False  \n",
    "    if not re.search(\"[0-9]\", password):  \n",
    "        return False  \n",
    "    return True  \n",
    "  \n",
    "password = \"P@ssw0rd\"  \n",
    "if validate_password(password):  \n",
    "    print(\"Valid password\")  \n",
    "else:  \n",
    "    print(\"Invalid password\")  "
   ]
  },
  {
   "cell_type": "code",
   "execution_count": null,
   "id": "ff9e1a40-5e56-492b-b363-889d246eaf96",
   "metadata": {},
   "outputs": [],
   "source": [
    "# Q2. Solve the below-given questions using at least one of the following:\n",
    "#     1. Lambda function\n",
    "#     2. Filter function\n",
    "#     3. Zap function\n",
    "#     4. List Comprehension\n",
    "# * Check if the string starts with a particular letter.\n",
    "# * Check if the string is numeric.\n",
    "# * Sort a list of tuples having fruit names and their quantity. [(\"mango\",99),(\"orange\",80), (\"grapes\", 1000)]\n",
    "# * Find the squares of numbers from 1 to 10.\n",
    "# * Find the cube root of numbers from 1 to 10.\n",
    "# * Check if a given number is even.\n",
    "# * Filter odd numbers from the given list.\n",
    "#   [1,2,3,4,5,6,7,8,9,10]\n",
    "# * Sort a list of integers into positive and negative integers lists.\n",
    "#   [1,2,3,4,5,6,-1,-2,-3,-4,-5,0]\n",
    "    \n"
   ]
  },
  {
   "cell_type": "code",
   "execution_count": 3,
   "id": "2432100c-a581-4968-8647-54fa3501684e",
   "metadata": {},
   "outputs": [
    {
     "name": "stdout",
     "output_type": "stream",
     "text": [
      "True\n",
      "False\n"
     ]
    }
   ],
   "source": [
    "# * Check if the string starts with a particular letter.\n",
    "\n",
    "starts_with = lambda x: True if x.startswith('P') else False\n",
    "print(starts_with('Python'))\n",
    "starts_with = lambda x: True if x.startswith('P') else False\n",
    "print(starts_with('Java'))\n"
   ]
  },
  {
   "cell_type": "code",
   "execution_count": 5,
   "id": "5a38d70a-0de3-47ed-8d12-3ad014568a16",
   "metadata": {},
   "outputs": [
    {
     "name": "stdout",
     "output_type": "stream",
     "text": [
      "True\n",
      "True\n",
      "False\n",
      "\n",
      "Print checking numbers:\n",
      "True\n",
      "True\n"
     ]
    }
   ],
   "source": [
    "# * Check if the string is numeric.\n",
    "\n",
    "is_num = lambda q: q.replace('.','',1).isdigit()\n",
    "print(is_num('26587'))\n",
    "print(is_num('4.2365'))\n",
    "print(is_num('-12547'))\n",
    "print(\"\\nPrint checking numbers:\")\n",
    "is_num1 = lambda r: is_num(r[1:]) if r[0]=='-' else is_num(r)\n",
    "print(is_num1('-16.4'))\n",
    "print(is_num1('-24587.11'))"
   ]
  },
  {
   "cell_type": "code",
   "execution_count": 7,
   "id": "910d0d5f-b3e2-4819-907b-4b34ad372808",
   "metadata": {},
   "outputs": [
    {
     "name": "stdout",
     "output_type": "stream",
     "text": [
      "Original list of tuples:\n",
      "[('mango', 99), ('orange', 80), ('grapes', 1000)]\n",
      "\n",
      "Sorting the List of Tuples:\n",
      "[('orange', 80), ('mango', 99), ('grapes', 1000)]\n"
     ]
    }
   ],
   "source": [
    "# * Sort a list of tuples having fruit names and their quantity. [(\"mango\",99),(\"orange\",80), (\"grapes\", 1000)]\n",
    "\n",
    "fruit= [(\"mango\",99),(\"orange\",80), (\"grapes\", 1000)]\n",
    "print(\"Original list of tuples:\")\n",
    "print(fruit)\n",
    "fruit.sort(key = lambda x: x[1])\n",
    "print(\"\\nSorting the List of Tuples:\")\n",
    "print(fruit)"
   ]
  },
  {
   "cell_type": "code",
   "execution_count": 8,
   "id": "1905e3fc-641a-4c39-85c5-64c67078fd00",
   "metadata": {},
   "outputs": [
    {
     "name": "stdout",
     "output_type": "stream",
     "text": [
      "Original list of integers:\n",
      "[1, 2, 3, 4, 5, 6, 7, 8, 9, 10]\n",
      "\n",
      "Square every number of the said list:\n",
      "[1, 4, 9, 16, 25, 36, 49, 64, 81, 100]\n"
     ]
    }
   ],
   "source": [
    "# * Find the squares of numbers from 1 to 10.\n",
    "\n",
    "nums = [1, 2, 3, 4, 5, 6, 7, 8, 9, 10]\n",
    "print(\"Original list of integers:\")\n",
    "print(nums)\n",
    "print(\"\\nSquare every number of the said list:\")\n",
    "square_nums = list(map(lambda x: x ** 2, nums))\n",
    "print(square_nums)\n"
   ]
  },
  {
   "cell_type": "code",
   "execution_count": 10,
   "id": "470fa117-cfa3-437e-be40-9a60d1d2cc7a",
   "metadata": {},
   "outputs": [
    {
     "name": "stdout",
     "output_type": "stream",
     "text": [
      "Original list of integers:\n",
      "[1, 2, 3, 4, 5, 6, 7, 8, 9, 10]\n",
      "\n",
      "Cube every number of the said list:\n",
      "[1, 8, 27, 64, 125, 216, 343, 512, 729, 1000]\n"
     ]
    }
   ],
   "source": [
    "# * Find the cube root of numbers from 1 to 10.\n",
    "nums = [1, 2, 3, 4, 5, 6, 7, 8, 9, 10]\n",
    "print(\"Original list of integers:\")\n",
    "print(nums)\n",
    "\n",
    "print(\"\\nCube every number of the said list:\")\n",
    "cube_nums = list(map(lambda x: x ** 3, nums))\n",
    "print(cube_nums)"
   ]
  },
  {
   "cell_type": "code",
   "execution_count": 12,
   "id": "3fa07ae4-5fce-4b8e-9cac-149f22efda27",
   "metadata": {},
   "outputs": [
    {
     "name": "stdin",
     "output_type": "stream",
     "text": [
      "Enter a number >>  4\n"
     ]
    },
    {
     "name": "stdout",
     "output_type": "stream",
     "text": [
      "Even Number\n"
     ]
    }
   ],
   "source": [
    "# * Check if a given number is even.\n",
    "number = int(input(\"Enter a number >> \"))\n",
    "odd_even = lambda : \"Even Number\" if number % 2 == 0 else \"Odd Number\"\n",
    "\n",
    "print(odd_even())\n"
   ]
  },
  {
   "cell_type": "code",
   "execution_count": 11,
   "id": "4cbbcfc1-746b-4268-8748-4bb032a45e0c",
   "metadata": {},
   "outputs": [
    {
     "name": "stdout",
     "output_type": "stream",
     "text": [
      "List of numbers:\n",
      "[11, 22, 33, 44, 55, 66, 77, 88, 99, 100]\n",
      "\n",
      "List Odd numbers:\n",
      "[11, 33, 55, 77, 99]\n"
     ]
    }
   ],
   "source": [
    "# * Filter odd numbers from the given list.\n",
    "#   [1,2,3,4,5,6,7,8,9,10]\n",
    "\n",
    "numbers = [11, 22, 33, 44, 55, 66, 77, 88, 99, 100]\n",
    "print(\"List of numbers:\")\n",
    "print(numbers)\n",
    "\n",
    "print(\"\\nList Odd numbers:\")\n",
    "oddNumbers = list(filter(lambda x: x%2 != 0, numbers))\n",
    "print(oddNumbers)"
   ]
  },
  {
   "cell_type": "code",
   "execution_count": 13,
   "id": "8b02eb3b-c1e3-4ad0-83d7-dd0d84d9418e",
   "metadata": {},
   "outputs": [
    {
     "name": "stdout",
     "output_type": "stream",
     "text": [
      "Original integers:\n",
      "[1, 2, 3, 4, 5, 6, -1, -2, -3, -4, -5, 0]\n",
      "\n",
      "Rearrange positive and negative integers:\n",
      "[1, 2, 3, 4, 5, 6, 0, -5, -4, -3, -2, -1]\n"
     ]
    }
   ],
   "source": [
    "# * Sort a list of integers into positive and negative integers lists.\n",
    "#   [1,2,3,4,5,6,-1,-2,-3,-4,-5,0]\n",
    "\n",
    "integers = [1,2,3,4,5,6,-1,-2,-3,-4,-5,0]\n",
    "print(\"Original integers:\")\n",
    "print(integers)\n",
    "result = sorted(integers, key = lambda i: 0 if i == 0 else -1 / i)\n",
    "print(\"\\nRearrange positive and negative integers:\")\n",
    "print(result)"
   ]
  },
  {
   "cell_type": "code",
   "execution_count": null,
   "id": "3c0f258b-a8aa-42ab-b4ce-08f389e8fa3e",
   "metadata": {},
   "outputs": [],
   "source": []
  }
 ],
 "metadata": {
  "kernelspec": {
   "display_name": "Python 3 (ipykernel)",
   "language": "python",
   "name": "python3"
  },
  "language_info": {
   "codemirror_mode": {
    "name": "ipython",
    "version": 3
   },
   "file_extension": ".py",
   "mimetype": "text/x-python",
   "name": "python",
   "nbconvert_exporter": "python",
   "pygments_lexer": "ipython3",
   "version": "3.10.8"
  }
 },
 "nbformat": 4,
 "nbformat_minor": 5
}
